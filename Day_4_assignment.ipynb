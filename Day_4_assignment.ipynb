{
  "nbformat": 4,
  "nbformat_minor": 0,
  "metadata": {
    "colab": {
      "name": "Day 4 assignment.ipynb",
      "provenance": [],
      "authorship_tag": "ABX9TyNMqaH4uz0ZHn3YQhZPjQqB",
      "include_colab_link": true
    },
    "kernelspec": {
      "name": "python3",
      "display_name": "Python 3"
    }
  },
  "cells": [
    {
      "cell_type": "markdown",
      "metadata": {
        "id": "view-in-github",
        "colab_type": "text"
      },
      "source": [
        "<a href=\"https://colab.research.google.com/github/sabitha27/Python-essentials/blob/master/Day_4_assignment.ipynb\" target=\"_parent\"><img src=\"https://colab.research.google.com/assets/colab-badge.svg\" alt=\"Open In Colab\"/></a>"
      ]
    },
    {
      "cell_type": "markdown",
      "metadata": {
        "id": "kmpRq4St4yUa",
        "colab_type": "text"
      },
      "source": [
        "Question 1 "
      ]
    },
    {
      "cell_type": "code",
      "metadata": {
        "id": "EycVtaEa48P7",
        "colab_type": "code",
        "colab": {
          "base_uri": "https://localhost:8080/",
          "height": 194
        },
        "outputId": "7377a01d-f677-407d-8d54-7e7682d2f436"
      },
      "source": [
        "a=1042000\n",
        "b=702648265\n",
        "for i in range(a,b+1):\n",
        "   order= len(str(i))\n",
        "   sum=0\n",
        "   c=i\n",
        "   while c>0:\n",
        "     d=c%10\n",
        "     sum += d**order\n",
        "     c//=10\n",
        "   if i==sum:\n",
        "     print(i) "
      ],
      "execution_count": 2,
      "outputs": [
        {
          "output_type": "stream",
          "text": [
            "1741725\n",
            "4210818\n",
            "9800817\n",
            "9926315\n",
            "24678050\n",
            "24678051\n",
            "88593477\n",
            "146511208\n",
            "472335975\n",
            "534494836\n"
          ],
          "name": "stdout"
        }
      ]
    },
    {
      "cell_type": "code",
      "metadata": {
        "id": "pwEemacP6kb0",
        "colab_type": "code",
        "colab": {}
      },
      "source": [
        ""
      ],
      "execution_count": null,
      "outputs": []
    }
  ]
}