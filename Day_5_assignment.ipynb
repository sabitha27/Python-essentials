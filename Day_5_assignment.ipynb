{
  "nbformat": 4,
  "nbformat_minor": 0,
  "metadata": {
    "colab": {
      "name": "Day 5 assignment.ipynb",
      "provenance": [],
      "authorship_tag": "ABX9TyPUFjBuZs1DEiutOa4ny4ug",
      "include_colab_link": true
    },
    "kernelspec": {
      "name": "python3",
      "display_name": "Python 3"
    }
  },
  "cells": [
    {
      "cell_type": "markdown",
      "metadata": {
        "id": "view-in-github",
        "colab_type": "text"
      },
      "source": [
        "<a href=\"https://colab.research.google.com/github/sabitha27/Python-essentials/blob/master/Day_5_assignment.ipynb\" target=\"_parent\"><img src=\"https://colab.research.google.com/assets/colab-badge.svg\" alt=\"Open In Colab\"/></a>"
      ]
    },
    {
      "cell_type": "markdown",
      "metadata": {
        "id": "gwRRdXOEDjx5",
        "colab_type": "text"
      },
      "source": [
        "Question 1"
      ]
    },
    {
      "cell_type": "code",
      "metadata": {
        "id": "otNluR6BKsgX",
        "colab_type": "code",
        "colab": {}
      },
      "source": [
        "list=[1,2,3,4,1,6,5]\n"
      ],
      "execution_count": 8,
      "outputs": []
    },
    {
      "cell_type": "code",
      "metadata": {
        "id": "J5hx378TLi1J",
        "colab_type": "code",
        "colab": {}
      },
      "source": [
        "sublist=[1,1,5]"
      ],
      "execution_count": 9,
      "outputs": []
    },
    {
      "cell_type": "code",
      "metadata": {
        "id": "T-BAMO5jRC3a",
        "colab_type": "code",
        "colab": {}
      },
      "source": [
        "x=0\n",
        "if (all(i in list for i in sublist)):\n",
        "  x=1"
      ],
      "execution_count": 11,
      "outputs": []
    },
    {
      "cell_type": "code",
      "metadata": {
        "id": "Nf0z6jPyLsRT",
        "colab_type": "code",
        "colab": {
          "base_uri": "https://localhost:8080/",
          "height": 34
        },
        "outputId": "8e409127-bfe2-47e9-d873-1593b170fdbb"
      },
      "source": [
        "if (x):\n",
        " print(\"It's a match\")\n",
        "else: \n",
        " print(\"No it's not a match\")"
      ],
      "execution_count": 12,
      "outputs": [
        {
          "output_type": "stream",
          "text": [
            "It's a match\n"
          ],
          "name": "stdout"
        }
      ]
    },
    {
      "cell_type": "code",
      "metadata": {
        "id": "bgjaYbNIP1yJ",
        "colab_type": "code",
        "colab": {}
      },
      "source": [
        ""
      ],
      "execution_count": null,
      "outputs": []
    }
  ]
}