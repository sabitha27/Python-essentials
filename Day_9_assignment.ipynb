{
  "nbformat": 4,
  "nbformat_minor": 0,
  "metadata": {
    "colab": {
      "name": "Day 9 assignment.ipynb",
      "provenance": [],
      "authorship_tag": "ABX9TyPkrsSuvEuMYDwVzWbOX0SU",
      "include_colab_link": true
    },
    "kernelspec": {
      "name": "python3",
      "display_name": "Python 3"
    }
  },
  "cells": [
    {
      "cell_type": "markdown",
      "metadata": {
        "id": "view-in-github",
        "colab_type": "text"
      },
      "source": [
        "<a href=\"https://colab.research.google.com/github/sabitha27/Python-essentials/blob/master/Day_9_assignment.ipynb\" target=\"_parent\"><img src=\"https://colab.research.google.com/assets/colab-badge.svg\" alt=\"Open In Colab\"/></a>"
      ]
    },
    {
      "cell_type": "markdown",
      "metadata": {
        "id": "_oeVM8e6-OUd",
        "colab_type": "text"
      },
      "source": [
        "Question 1"
      ]
    },
    {
      "cell_type": "code",
      "metadata": {
        "id": "ZdSskIic-REP",
        "colab_type": "code",
        "colab": {
          "base_uri": "https://localhost:8080/",
          "height": 34
        },
        "outputId": "0cb0249e-916d-4969-dc1b-502680178037"
      },
      "source": [
        "num = 11\n",
        "  \n",
        "\n",
        "if num > 1: \n",
        "      \n",
        "   \n",
        "   for i in range(2, num): \n",
        "         \n",
        "       # If num is divisible by any number between  \n",
        "       # 2 and n / 2, it is not prime  \n",
        "       if (num % i) == 0: \n",
        "           print(num, \"is not a prime number\") \n",
        "           break\n",
        "   else: \n",
        "       print(num, \"is a prime number\") \n",
        "  \n",
        "else: \n",
        "   print(num, \"is not a prime number\") "
      ],
      "execution_count": 4,
      "outputs": [
        {
          "output_type": "stream",
          "text": [
            "11 is a prime number\n"
          ],
          "name": "stdout"
        }
      ]
    },
    {
      "cell_type": "markdown",
      "metadata": {
        "id": "qtWtDYz6Aig0",
        "colab_type": "text"
      },
      "source": [
        "Question 2"
      ]
    },
    {
      "cell_type": "code",
      "metadata": {
        "id": "iAJcGIb5AhCe",
        "colab_type": "code",
        "colab": {
          "base_uri": "https://localhost:8080/",
          "height": 178
        },
        "outputId": "57938c03-353c-4c8a-e8f1-3be554150330"
      },
      "source": [
        "print(\"Enter 'x' for exit.\");\n",
        "print(\"Enter the interval (starting and ending number): \");\n",
        "start = input();\n",
        "if start == 'x':\n",
        "    exit();\n",
        "else:\n",
        "    end = input();\n",
        "    lower = int(start);\n",
        "    upper = int(end);\n",
        "    for num in range(lower, upper+1):\n",
        "        tot = 0;\n",
        "        temp = num;\n",
        "        while temp != 0:\n",
        "            dig = temp % 10;\n",
        "            tot += dig ** 3;\n",
        "            temp //= 10;\n",
        "        if num == tot:\n",
        "            print(num);"
      ],
      "execution_count": 6,
      "outputs": [
        {
          "output_type": "stream",
          "text": [
            "Enter 'x' for exit.\n",
            "Enter the interval (starting and ending number): \n",
            "1\n",
            "1000\n",
            "1\n",
            "153\n",
            "370\n",
            "371\n",
            "407\n"
          ],
          "name": "stdout"
        }
      ]
    },
    {
      "cell_type": "code",
      "metadata": {
        "id": "J_rrM8P6-SEQ",
        "colab_type": "code",
        "colab": {}
      },
      "source": [
        ""
      ],
      "execution_count": null,
      "outputs": []
    }
  ]
}